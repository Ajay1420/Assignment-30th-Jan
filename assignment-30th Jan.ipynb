{
 "cells": [
  {
   "cell_type": "markdown",
   "id": "0fa823f3-1fae-488d-b242-35f8e47bcaef",
   "metadata": {},
   "source": [
    "Ans(1)\n"
   ]
  },
  {
   "cell_type": "code",
   "execution_count": 19,
   "id": "d5ed8b95-f24a-4101-bdea-462b26ff2c64",
   "metadata": {},
   "outputs": [
    {
     "name": "stdin",
     "output_type": "stream",
     "text": [
      "enter your marks: 50\n"
     ]
    },
    {
     "name": "stdout",
     "output_type": "stream",
     "text": [
      "you got D grade in exam\n"
     ]
    }
   ],
   "source": [
    "marks=int(input(\"enter your marks:\"))\n",
    "if marks>90 :\n",
    "    print(\"you got A grade in exam\")\n",
    "elif marks>80 and marks<=90 :\n",
    "    print(\"you got B grade in exam\")\n",
    "elif marks>=60 and marks<=80 :\n",
    "    print(\"you got C grade in exam\")\n",
    "    \n",
    "else:\n",
    "    print(\"you got D grade in exam\")\n",
    "\n"
   ]
  },
  {
   "cell_type": "markdown",
   "id": "f2f181b6-93ea-4d65-a6d2-bda7e53fe14d",
   "metadata": {},
   "source": [
    "Ans(2)\n"
   ]
  },
  {
   "cell_type": "code",
   "execution_count": 17,
   "id": "04969f8e-26ac-4831-b7f3-c37982a94e16",
   "metadata": {},
   "outputs": [],
   "source": [
    "Tax=0\n",
    "price=int(input(\"enter cost price of your bike :\"))\n",
    "if price>100000:\n",
    "    Tax=15/100*price\n",
    "elif price>50000 and price<=100000:\n",
    "    Tax=10/100*price\n",
    "else:\n",
    "    Tax=5/100*price\n",
    "print(\"tax to be paid\",Tax,\"Rupees\")\n",
    "\n",
    "    "
   ]
  },
  {
   "cell_type": "markdown",
   "id": "74e9a1c5-2902-4d5b-9cae-1bf0774ee351",
   "metadata": {},
   "source": [
    "Ans(3)"
   ]
  },
  {
   "cell_type": "code",
   "execution_count": 9,
   "id": "616390d7-14da-453c-be33-39c769566a35",
   "metadata": {},
   "outputs": [
    {
     "name": "stdin",
     "output_type": "stream",
     "text": [
      "Enter the name of the city: Delhi\n"
     ]
    },
    {
     "name": "stdout",
     "output_type": "stream",
     "text": [
      "monument in Delhi:Red Fort\n"
     ]
    }
   ],
   "source": [
    "city=input(\"Enter the name of the city:\")\n",
    "city=city\n",
    "\n",
    "if city==\"Delhi\":\n",
    "    print(\"monument in Delhi:Red Fort\")\n",
    "elif city==\"Agra\":\n",
    "    print(\"monument in Agra:Taj Mahal\")\n",
    "elif city==\"Jaipur\":\n",
    "    print(\"monument in Jaipur:Jal Mahal\")\n",
    "else:\n",
    "    print(\"monument information not available for entered city\")\n",
    "\n",
    "    "
   ]
  },
  {
   "cell_type": "markdown",
   "id": "4e8e9b77-2f6b-446f-b876-f5e6f640dc23",
   "metadata": {},
   "source": [
    "Ans(4):"
   ]
  },
  {
   "cell_type": "code",
   "execution_count": 6,
   "id": "74913935-b9ca-4f5f-8c56-690b536f748c",
   "metadata": {},
   "outputs": [
    {
     "name": "stdin",
     "output_type": "stream",
     "text": [
      "enter the number: 98\n"
     ]
    },
    {
     "name": "stdout",
     "output_type": "stream",
     "text": [
      "the number can be divided by 3 is 3 times before it become less than or equal to 10.\n"
     ]
    }
   ],
   "source": [
    "number=int(input(\"enter the number:\"))\n",
    "count=0\n",
    "\n",
    "while number>10:\n",
    "    number = number/3\n",
    "    count +=1\n",
    "print(\"the number can be divided by 3 is\",count,\"times before it become less than or equal to 10.\")\n"
   ]
  },
  {
   "cell_type": "markdown",
   "id": "1a9a790b-cf32-4f6d-b1ea-98144e8316e8",
   "metadata": {},
   "source": [
    "Ans(5):\n"
   ]
  },
  {
   "cell_type": "markdown",
   "id": "ea08fbba-eb68-4fd9-b481-feb56f0eaad6",
   "metadata": {},
   "source": [
    "A while loop in Python is used when you want to repeatedly execute a block of code as long as a specific condition is met. This is useful when you don't know beforehand how many times the loop needs to be executed. The while loop continues to execute as long as the condition is true, and terminates when the condition becomes false.\n",
    "\n",
    "Here's an example of using a while loop to sum the numbers from 1 to 10:"
   ]
  },
  {
   "cell_type": "code",
   "execution_count": 7,
   "id": "76441e79-e319-4070-812c-8656cade29ba",
   "metadata": {},
   "outputs": [
    {
     "name": "stdout",
     "output_type": "stream",
     "text": [
      "The sum of the numbers from 1 to 10 is: 55\n"
     ]
    }
   ],
   "source": [
    "#Example\n",
    "sum = 0\n",
    "i = 1\n",
    "\n",
    "while i <= 10:\n",
    "    sum = sum + i\n",
    "    i = i + 1\n",
    "\n",
    "print(\"The sum of the numbers from 1 to 10 is:\", sum)"
   ]
  },
  {
   "cell_type": "markdown",
   "id": "e71f9254-b170-4ce6-9495-a16592d5e853",
   "metadata": {},
   "source": [
    "In above example, the variable i is used to keep track of the number of iterations, and the while loop continues to execute as long as i is less than or equal to 10. The variable sum is used to store the sum of the numbers, and it's updated in each iteration by adding i to it.\n",
    "\n",
    "It's important to note that you need to increment the variable used in the condition inside the loop, otherwise the loop will become infinite. In the example above, i is incremented by 1 in each iteration.\n",
    "\n",
    "The while loop is especially useful when you need to perform a task repeatedly until some specific condition is met. For example, you can use a while loop to repeatedly prompt a user for input until they enter a valid value."
   ]
  },
  {
   "cell_type": "code",
   "execution_count": 11,
   "id": "12cc61c8-4990-43d4-bb56-35ab1202f876",
   "metadata": {},
   "outputs": [
    {
     "name": "stdin",
     "output_type": "stream",
     "text": [
      "Enter your age:  'ajay'\n"
     ]
    },
    {
     "name": "stdout",
     "output_type": "stream",
     "text": [
      "Invalid input. Age must be a positive integer.\n"
     ]
    },
    {
     "name": "stdin",
     "output_type": "stream",
     "text": [
      "Enter your age:  22\n"
     ]
    }
   ],
   "source": [
    "#example\n",
    "while True:\n",
    "    age = input(\"Enter your age: \")\n",
    "    if age.isdigit():\n",
    "        age = int(age)\n",
    "        break\n",
    "    print(\"Invalid input. Age must be a positive integer.\")"
   ]
  },
  {
   "cell_type": "markdown",
   "id": "8a87f7f7-60c1-4b63-904a-372f010b2e7c",
   "metadata": {},
   "source": [
    "In this example, the while loop continues to execute until the user enters a valid age, which is defined as a positive integer. The isdigit() method is used to check if the user's input is a digit, and the break statement is used to exit the loop when a valid age is entered."
   ]
  },
  {
   "cell_type": "markdown",
   "id": "ee18f66f-eab0-40de-9577-2912be703740",
   "metadata": {},
   "source": [
    "Ans(6):"
   ]
  },
  {
   "cell_type": "code",
   "execution_count": 12,
   "id": "814efc3c-41d6-4613-973e-144cced682fd",
   "metadata": {},
   "outputs": [
    {
     "name": "stdout",
     "output_type": "stream",
     "text": [
      "*\n",
      "**\n",
      "***\n",
      "****\n",
      "*****\n"
     ]
    }
   ],
   "source": [
    "#(1)Triangular pattern:\n",
    "n = 5\n",
    "i = 1\n",
    "\n",
    "while i <= n:\n",
    "    j = 1\n",
    "    while j <= i:\n",
    "        print(\"*\", end=\"\")\n",
    "        j = j + 1\n",
    "    print(\"\")\n",
    "    i = i + 1"
   ]
  },
  {
   "cell_type": "code",
   "execution_count": 13,
   "id": "80bd8ded-194c-4816-a7bb-782395b5d14b",
   "metadata": {},
   "outputs": [
    {
     "name": "stdout",
     "output_type": "stream",
     "text": [
      "*****\n",
      "****\n",
      "***\n",
      "**\n",
      "*\n"
     ]
    }
   ],
   "source": [
    "#(2)Reverse Triangular pattern:\n",
    "n = 5\n",
    "i = n\n",
    "\n",
    "while i >= 1:\n",
    "    j = 1\n",
    "    while j <= i:\n",
    "        print(\"*\", end=\"\")\n",
    "        j = j + 1\n",
    "    print(\"\")\n",
    "    i = i - 1"
   ]
  },
  {
   "cell_type": "code",
   "execution_count": 14,
   "id": "b2356c00-f141-4207-863f-f81053e653e6",
   "metadata": {},
   "outputs": [
    {
     "name": "stdout",
     "output_type": "stream",
     "text": [
      "    * \n",
      "   * * \n",
      "  * * * \n",
      " * * * * \n",
      "* * * * * \n"
     ]
    }
   ],
   "source": [
    "#Pyramid pattern\n",
    "n = 5\n",
    "spaces = n - 1\n",
    "\n",
    "for i in range(1, n + 1):\n",
    "    for j in range(spaces):\n",
    "        print(\" \", end=\"\")\n",
    "    spaces = spaces - 1\n",
    "    for j in range(i):\n",
    "        print(\"* \", end=\"\")\n",
    "    print(\"\")"
   ]
  },
  {
   "cell_type": "markdown",
   "id": "e405072f-e2bf-464a-8404-6b0cfa1dab1e",
   "metadata": {},
   "source": [
    "Ans(7):"
   ]
  },
  {
   "cell_type": "code",
   "execution_count": 16,
   "id": "0a012b78-c64f-4352-a50f-7390c1e5d351",
   "metadata": {},
   "outputs": [
    {
     "name": "stdout",
     "output_type": "stream",
     "text": [
      "10\n",
      "9\n",
      "8\n",
      "7\n",
      "6\n",
      "5\n",
      "4\n",
      "3\n",
      "2\n",
      "1\n"
     ]
    }
   ],
   "source": [
    "n = 10\n",
    "\n",
    "while n >= 1:\n",
    "    print(n)\n",
    "    n = n - 1"
   ]
  },
  {
   "cell_type": "markdown",
   "id": "f0a8c162-87bb-4b1c-b3e9-bc6e8cf24498",
   "metadata": {},
   "source": [
    "Ans(8):\n"
   ]
  },
  {
   "cell_type": "code",
   "execution_count": 17,
   "id": "fa2f8394-5624-45f5-b5ac-42e130cc3e0a",
   "metadata": {},
   "outputs": [
    {
     "name": "stdout",
     "output_type": "stream",
     "text": [
      "10\n",
      "9\n",
      "8\n",
      "7\n",
      "6\n",
      "5\n",
      "4\n",
      "3\n",
      "2\n",
      "1\n"
     ]
    }
   ],
   "source": [
    "n = 10\n",
    "\n",
    "while n >= 1:\n",
    "    print(n)\n",
    "    n = n - 1"
   ]
  },
  {
   "cell_type": "code",
   "execution_count": null,
   "id": "3856d3fa-1e7d-4338-b273-099d458788d0",
   "metadata": {},
   "outputs": [],
   "source": []
  }
 ],
 "metadata": {
  "kernelspec": {
   "display_name": "Python 3 (ipykernel)",
   "language": "python",
   "name": "python3"
  },
  "language_info": {
   "codemirror_mode": {
    "name": "ipython",
    "version": 3
   },
   "file_extension": ".py",
   "mimetype": "text/x-python",
   "name": "python",
   "nbconvert_exporter": "python",
   "pygments_lexer": "ipython3",
   "version": "3.10.8"
  }
 },
 "nbformat": 4,
 "nbformat_minor": 5
}
